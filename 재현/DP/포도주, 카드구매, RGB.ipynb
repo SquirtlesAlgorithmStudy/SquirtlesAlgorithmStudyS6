{
 "cells": [
  {
   "cell_type": "code",
   "execution_count": 9,
   "id": "19b02183-1cf5-468b-ad99-a00426b5ae3b",
   "metadata": {},
   "outputs": [
    {
     "name": "stdin",
     "output_type": "stream",
     "text": [
      " 6\n",
      " 6\n",
      " 5\n",
      " 4\n",
      " 3\n",
      " 2\n",
      " 10\n"
     ]
    },
    {
     "ename": "SyntaxError",
     "evalue": "'continue' not properly in loop (3811159815.py, line 14)",
     "output_type": "error",
     "traceback": [
      "\u001b[1;36m  Cell \u001b[1;32mIn[9], line 14\u001b[1;36m\u001b[0m\n\u001b[1;33m    continue\u001b[0m\n\u001b[1;37m    ^\u001b[0m\n\u001b[1;31mSyntaxError\u001b[0m\u001b[1;31m:\u001b[0m 'continue' not properly in loop\n"
     ]
    }
   ],
   "source": [
    "n = int(input())\n",
    "array = []\n",
    "\n",
    "for _ in range(n):\n",
    "    array.append(int(input()))\n",
    "    \n",
    "d = [0]*10001\n",
    "\n",
    "\n",
    "d[0] = array[0]\n",
    "\n",
    "if n >= 2:\n",
    "    d[1] = array[0] + array[1]\n",
    "    \n",
    "if n >= 3:\n",
    "    d[2] = max(d[0] + array[2], array[1]+array[2], d[1])\n",
    "    \n",
    "for i in range(3, n):\n",
    "    d[i] = max(d[i-1], d[i-2] + array[i], d[i-3] + array[i-1] + array[i])\n",
    "\n",
    "print(d[n-1])"
   ]
  },
  {
   "cell_type": "code",
   "execution_count": 19,
   "id": "70e41091-440e-474d-900a-443578fff91b",
   "metadata": {},
   "outputs": [
    {
     "name": "stdin",
     "output_type": "stream",
     "text": [
      " 4\n",
      " 1 5 6 7\n"
     ]
    }
   ],
   "source": [
    "n = int(input())\n",
    "money = [0]+list(map(int, input().split()))\n",
    "\n",
    "d = [0]*1001\n",
    "\n",
    "\n",
    "for i in range(1, n+1):\n",
    "    for j in range(1, i+1):\n",
    "        d[i] = max(d[i], d[i - j] + money[j])\n",
    "        \n"
   ]
  },
  {
   "cell_type": "code",
   "execution_count": 5,
   "id": "681bc70b-a30d-4a10-88fb-9a0878c97470",
   "metadata": {},
   "outputs": [
    {
     "name": "stdin",
     "output_type": "stream",
     "text": [
      " 3\n",
      " 26 40 80\n",
      " 49 60 57\n",
      " 13 89 99\n"
     ]
    }
   ],
   "source": [
    "n = int(input())\n",
    "array = [list(map(int, input().split())) for _ in range(n)]\n",
    "\n",
    "for i in range(1, n):\n",
    "    array[i][0] = min(array[i-1][1], array[i-1][2]) + array[i][0]\n",
    "    array[i][1] = min(array[i-1][0], array[i-1][2]) + array[i][1]\n",
    "    array[i][2] = min(array[i-1][1], array[i-1][0]) + array[i][2]\n",
    "\n",
    "print(min(array[n-1]))"
   ]
  },
  {
   "cell_type": "code",
   "execution_count": 6,
   "id": "0271a888-e3cb-4ed7-a6ba-cb454ab00dfa",
   "metadata": {},
   "outputs": [
    {
     "data": {
      "text/plain": [
       "[[26, 40, 80], [89, 86, 83], [96, 172, 185]]"
      ]
     },
     "execution_count": 6,
     "metadata": {},
     "output_type": "execute_result"
    }
   ],
   "source": []
  },
  {
   "cell_type": "code",
   "execution_count": null,
   "id": "0f4ee288-2c54-489a-83d9-939d64230871",
   "metadata": {},
   "outputs": [],
   "source": []
  }
 ],
 "metadata": {
  "kernelspec": {
   "display_name": "Python 3 (ipykernel)",
   "language": "python",
   "name": "python3"
  },
  "language_info": {
   "codemirror_mode": {
    "name": "ipython",
    "version": 3
   },
   "file_extension": ".py",
   "mimetype": "text/x-python",
   "name": "python",
   "nbconvert_exporter": "python",
   "pygments_lexer": "ipython3",
   "version": "3.8.6"
  }
 },
 "nbformat": 4,
 "nbformat_minor": 5
}
