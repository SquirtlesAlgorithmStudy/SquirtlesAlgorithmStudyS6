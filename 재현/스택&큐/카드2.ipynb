{
 "cells": [
  {
   "cell_type": "markdown",
   "id": "6a23b98b-591b-4313-801c-855de7eb41b2",
   "metadata": {},
   "source": [
    "## 풀이 및 아이디어  \n",
    "input을 stack에 넣고 문제 요구사항에 따라 앞의 숫자는 빼고 그다음 것은 맨뒤로 보내주면서 마지막 하나가 남을 때 까지 반복"
   ]
  },
  {
   "cell_type": "code",
   "execution_count": 2,
   "id": "bd8b81e6-0a20-4dd8-8972-4efdd738ec2d",
   "metadata": {},
   "outputs": [
    {
     "name": "stdin",
     "output_type": "stream",
     "text": [
      " 6\n"
     ]
    },
    {
     "name": "stdout",
     "output_type": "stream",
     "text": [
      "4\n"
     ]
    }
   ],
   "source": [
    "from collections import deque\n",
    "n = int(input())\n",
    "stack = deque()\n",
    "for i in range(1, n+1):\n",
    "    stack.append(i)\n",
    "    \n",
    "while len(stack) != 1:\n",
    "    stack.popleft()\n",
    "    stack.append(stack.popleft())\n",
    "    \n",
    "print(stack[0])\n"
   ]
  },
  {
   "cell_type": "code",
   "execution_count": null,
   "id": "d66076b9-f76f-4774-a257-a4d75df210bc",
   "metadata": {},
   "outputs": [],
   "source": []
  }
 ],
 "metadata": {
  "kernelspec": {
   "display_name": "Python 3 (ipykernel)",
   "language": "python",
   "name": "python3"
  },
  "language_info": {
   "codemirror_mode": {
    "name": "ipython",
    "version": 3
   },
   "file_extension": ".py",
   "mimetype": "text/x-python",
   "name": "python",
   "nbconvert_exporter": "python",
   "pygments_lexer": "ipython3",
   "version": "3.8.6"
  }
 },
 "nbformat": 4,
 "nbformat_minor": 5
}
