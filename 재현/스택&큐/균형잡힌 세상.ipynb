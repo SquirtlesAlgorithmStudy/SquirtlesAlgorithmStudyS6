{
 "cells": [
  {
   "cell_type": "markdown",
   "id": "50f2d351-44b6-4a1b-a869-8191e096fb61",
   "metadata": {},
   "source": [
    "## 풀이 및 아이디어  \n",
    "여는 괄호는 stack에 쌓고 닫는 괄호가 나오면 경우에 따라 no를 반환, for문이 모두 돌아간 후 stack을 확인해 비어있으면 yes 출력  \n",
    "첫번째 코드는 예제를 헷갈려 통으로 문자열을 받았을 때 처리하도록 한 것(오답)  "
   ]
  },
  {
   "cell_type": "code",
   "execution_count": 30,
   "id": "b1f7bc3f-4cf0-4779-91c0-3debd5a67647",
   "metadata": {
    "tags": []
   },
   "outputs": [
    {
     "name": "stdin",
     "output_type": "stream",
     "text": [
      " So when I die (the [first] I will see in (heaven) is a score list). [ first in ] ( first out ). Half Moon tonight (At least it is better than no Moon at all]. A rope may form )( a trail in a maze. Help( I[m being held prisoner in a fortune cookie factory)]. ([ (([( [ ] ) ( ) (( ))] )) ]).  . .\n"
     ]
    },
    {
     "name": "stdout",
     "output_type": "stream",
     "text": [
      "yes\n",
      "yes\n",
      "no\n",
      "no\n",
      "no\n",
      "yes\n",
      "yes\n"
     ]
    }
   ],
   "source": [
    "from collections import deque\n",
    "\n",
    "string = input()\n",
    "s_list = string.split('. ')#문자열을 . 기준으로 분리\n",
    "\n",
    "\n",
    "for s in s_list:\n",
    "    stack = deque()\n",
    "    \n",
    "    if s == '.': #종료조건\n",
    "        break\n",
    "    else:\n",
    "        for x in s:\n",
    "            if x in ('(', '['): #여는 괄호가 있으면 stack에 넣기\n",
    "                stack.append(x)\n",
    "                \n",
    "            elif x in (')', ']'): #닫는 괄호가 있으면\n",
    "                if stack: #스택이 비어있지 않으면\n",
    "                    if (x == ')' and stack[-1] == '[') or (x == ']' and stack[-1] == '('): #괄호 불일치이면\n",
    "                        print('no')\n",
    "                        break\n",
    "                    else:\n",
    "                        stack.pop() #정상적인 경우 스택에서 제거\n",
    "                else: # 스택 비어있으면\n",
    "                    print('no')\n",
    "                    break\n",
    "\n",
    "        else:\n",
    "            if stack: # 스택이 안비었으면 no\n",
    "                print('no')\n",
    "            else: # 스택이 비었으면 yes\n",
    "                print('yes')\n"
   ]
  },
  {
   "cell_type": "code",
   "execution_count": 31,
   "id": "8ec05b78-9881-4a26-9f5b-056b8df8e467",
   "metadata": {},
   "outputs": [
    {
     "name": "stdin",
     "output_type": "stream",
     "text": [
      " So when I die (the [first] I will see in (heaven) is a score list).\n"
     ]
    },
    {
     "name": "stdout",
     "output_type": "stream",
     "text": [
      "yes\n"
     ]
    },
    {
     "name": "stdin",
     "output_type": "stream",
     "text": [
      " [ first in ] ( first out ).\n"
     ]
    },
    {
     "name": "stdout",
     "output_type": "stream",
     "text": [
      "yes\n"
     ]
    },
    {
     "name": "stdin",
     "output_type": "stream",
     "text": [
      " Half Moon tonight (At least it is better than no Moon at all].\n"
     ]
    },
    {
     "name": "stdout",
     "output_type": "stream",
     "text": [
      "no\n"
     ]
    },
    {
     "name": "stdin",
     "output_type": "stream",
     "text": [
      " ([ (([( [ ] ) ( ) (( ))] )) ]).\n"
     ]
    },
    {
     "name": "stdout",
     "output_type": "stream",
     "text": [
      "yes\n"
     ]
    },
    {
     "name": "stdin",
     "output_type": "stream",
     "text": [
      "  .\n"
     ]
    },
    {
     "name": "stdout",
     "output_type": "stream",
     "text": [
      "yes\n"
     ]
    },
    {
     "name": "stdin",
     "output_type": "stream",
     "text": [
      " lkafjioeklaefliasef\n"
     ]
    },
    {
     "name": "stdout",
     "output_type": "stream",
     "text": [
      "yes\n"
     ]
    },
    {
     "name": "stdin",
     "output_type": "stream",
     "text": [
      " .\n"
     ]
    }
   ],
   "source": [
    "from collections import deque\n",
    "\n",
    "\n",
    "while True:\n",
    "    s = input()\n",
    "    stack = deque()\n",
    "\n",
    "    if s == '.': #종료조건\n",
    "        break\n",
    "    else:\n",
    "        for x in s:\n",
    "            if x in ('(', '['): #여는 괄호가 있으면 stack에 넣기\n",
    "                stack.append(x)\n",
    "\n",
    "            elif x in (')', ']'): #닫는 괄호가 있으면\n",
    "                if stack: #스택이 비어있지 않으면\n",
    "                    if (x == ')' and stack[-1] == '[') or (x == ']' and stack[-1] == '('): #괄호 불일치이면\n",
    "                        print('no')\n",
    "                        break\n",
    "                    else:\n",
    "                        stack.pop() #정상적인 경우 스택에서 제거\n",
    "                else: # 스택 비어있으면\n",
    "                    print('no')\n",
    "                    break\n",
    "\n",
    "        else:\n",
    "            if stack: # 스택이 안비었으면 no\n",
    "                print('no')\n",
    "            else: # 스택이 비었으면 yes\n",
    "                print('yes')"
   ]
  }
 ],
 "metadata": {
  "kernelspec": {
   "display_name": "Python 3 (ipykernel)",
   "language": "python",
   "name": "python3"
  },
  "language_info": {
   "codemirror_mode": {
    "name": "ipython",
    "version": 3
   },
   "file_extension": ".py",
   "mimetype": "text/x-python",
   "name": "python",
   "nbconvert_exporter": "python",
   "pygments_lexer": "ipython3",
   "version": "3.8.6"
  }
 },
 "nbformat": 4,
 "nbformat_minor": 5
}
