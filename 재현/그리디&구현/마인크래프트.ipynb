{
 "cells": [
  {
   "cell_type": "markdown",
   "id": "6b03edb9-5edd-442e-acff-60898b231752",
   "metadata": {},
   "source": [
    "## 풀이 및 아이디어  \n",
    "\n",
    "최고, 최저높이를 구해 그 안에서 계산하는 접근법을 시도함(시간이 최소가 되려면 최고, 최저 높이를 벗어날 수 없으므로)  \n",
    "이 풀이는 층수의 차이가 1인 경우, 그 외의 경우를 구현하려고 시도 했으나 실패  \n",
    "\n",
    "블로그에서는 1~256층을 돌면서 낮으면 쌓고 높으면 파내서 최종 계산을 하는 방식으로 구현을 했는데  \n",
    "이 부분을 마지막 부분을 구현하는데 차용. 그 결과는 시간초과  \n",
    "\n",
    "블로그 방법대로 하면 굳이 최고, 최저점을 구하느라 2중 for문을 활용할 필요가 없고  \n",
    "최고, 최저층 높이차가 1인 경우보다 아닌 경우가 더 많기 때문에 if분기의 효과를 보지 못하기 때문에 시간초과가 안나는게 아닌가 싶었지만 블로그의 방법도 시간초과가 나버렸다."
   ]
  },
  {
   "cell_type": "code",
   "execution_count": null,
   "id": "c221bf01-b9eb-4030-ad1e-6af01a76b56f",
   "metadata": {},
   "outputs": [],
   "source": [
    "n, m, b = map(int, input().split())\n",
    "\n",
    "ground = [list(map(int, input().split())) for _ in range(n)]\n",
    "\n",
    "high = float('-inf')\n",
    "low = float('inf')\n",
    "\n",
    "for i in range(n):\n",
    "    for j in range(m):\n",
    "        if ground[i][j] > high:\n",
    "            high = ground[i][j]\n",
    "        \n",
    "        if ground[i][j] < low:\n",
    "            low = ground[i][j]\n",
    "            \n",
    "cases = [0, 0] # 시간, 높이 (result 값이 될 리스트)\n",
    "\n",
    "if high == low:\n",
    "    print(0, high)\n",
    "    \n",
    "elif high == low + 1: # 위 아래 블록 1개 차이일 때\n",
    "    for i in range(n):\n",
    "        for j in range(m):\n",
    "            if ground[i][j] == high:\n",
    "                ground[i][j] -= 1\n",
    "                cases[0] += 2\n",
    "    \n",
    "    cases[1] = n*m - cases[0]//2\n",
    "    \n",
    "    if b >= cases[1]:\n",
    "        if cases[0] >= cases[1]:\n",
    "            print(cases[1], high)\n",
    "        else:\n",
    "            print(cases[0], low)\n",
    "        \n",
    "    else:\n",
    "        print(cases[0], low) # 큰값 하나 넣어줌\n",
    "        \n",
    "else: # 위 아래 블록 차이가 2개 이상\n",
    "    tmp = float('inf') #시간 minimum을 찾기 위한 초기값\n",
    "    \n",
    "    for t in range(low, high+1):\n",
    "        use = 0\n",
    "        take = 0\n",
    "        for i in range(n):\n",
    "            for j in range(m):\n",
    "                if ground[i][j] > t:\n",
    "                    take += ground[i][j] - t\n",
    "                else:\n",
    "                    use += t - ground[i][j]\n",
    "                    \n",
    "        if use > take + b: #사용한 블록이 가지고있는 블록보다 많으면 다음으로 넘긴다.\n",
    "            continue\n",
    "            \n",
    "        cases[0] = take*2 + use # 문제에서의 시간 정의\n",
    "        \n",
    "        if cases[0] < tmp: #기존 시간보다 적게 걸리면 업데이트\n",
    "            tmp = cases[0]\n",
    "            cases[1] = t\n",
    "            \n",
    "        \n",
    "    print(cases[0], cases[1])"
   ]
  },
  {
   "cell_type": "markdown",
   "id": "69613cd2-5177-49f7-8628-01359adaa9c3",
   "metadata": {},
   "source": [
    "## 해당 블로그의 풀이  \n",
    "그대로 가져왔으나 시간초과가 난다.. sys.stdin.readline을 활용함에도 불구하고.."
   ]
  },
  {
   "cell_type": "code",
   "execution_count": 2,
   "id": "4a43b387-814c-4eb2-aaf3-e7d002bee8fd",
   "metadata": {},
   "outputs": [
    {
     "name": "stdin",
     "output_type": "stream",
     "text": [
      " 3 4 99\n",
      " 0 0 0 0\n",
      " 0 0 0 0\n",
      " 0 0 0 1\n"
     ]
    },
    {
     "name": "stdout",
     "output_type": "stream",
     "text": [
      "2 0\n"
     ]
    }
   ],
   "source": [
    "n, m, b = map(int, input().split())\n",
    "\n",
    "ground = [list(map(int, input().split())) for _ in range(n)]\n",
    "\n",
    "result = float('inf')\n",
    "floor = 0\n",
    "\n",
    "for f in range(257): #땅의 높이를 순회한다\n",
    "    use = 0 #메꾸느라 사용하는 블록\n",
    "    take = 0 #파내서 얻는 블록\n",
    "    \n",
    "    for i in range(n):\n",
    "        for j in range(m):\n",
    "            if ground[i][j] > f:\n",
    "                take += ground[i][j] - f\n",
    "            else:\n",
    "                use += f - ground[i][j]\n",
    "                \n",
    "    if use > take + b: #모든 사용가능 블록보다 쌓아야 하는 블록이 더 많으면\n",
    "        continue       #넘긴다\n",
    "        \n",
    "    cnt = take*2 + use\n",
    "    \n",
    "    if cnt <= result:\n",
    "        result = cnt\n",
    "        floor = f\n",
    "        \n",
    "print(result, floor)\n",
    "                "
   ]
  },
  {
   "cell_type": "markdown",
   "id": "fe58a4c3-1234-4c87-b018-2b32efda8a2e",
   "metadata": {},
   "source": [
    "## 타 블로그의 풀이  \n",
    "\n",
    "내가 처음 생각했던 Idaa를 완벽하고 깔끔하게 구현한 코드"
   ]
  },
  {
   "cell_type": "code",
   "execution_count": 5,
   "id": "3c00452a-38c5-4f39-a6fe-f8da2863a9c6",
   "metadata": {},
   "outputs": [
    {
     "name": "stdin",
     "output_type": "stream",
     "text": [
      " 3 4 0\n",
      " 64 64 64 64\n",
      " 64 64 64 64\n",
      " 64 64 64 63\n"
     ]
    },
    {
     "name": "stdout",
     "output_type": "stream",
     "text": [
      "22 63\n"
     ]
    }
   ],
   "source": [
    "from collections import Counter\n",
    "n, m, b = map(int, input().split())\n",
    "ground = []\n",
    "for _ in range(n):\n",
    "    ground += map(int, input().split())\n",
    "    \n",
    "floor, time = 0, float('inf')\n",
    "\n",
    "min_f = min(ground) #최저층\n",
    "max_f = max(ground) #최고층\n",
    "sum_f = sum(ground) #현재 존재하는 모든 블록의 수(가방 제외)\n",
    "ground = dict(Counter(ground)) #해당 층의 개수를 세어줌 ex) 65 64 64 >> {64 : 2, 65 : 1}\n",
    "\n",
    "for f in range(min_f, max_f + 1):\n",
    "    if sum_f + b >= f * n * m: # 해당 층을 쌓는데 필요한 블록 수보다 실제 존재하는 블록 수가 더 많을 때만 고려\n",
    "        cur_time = 0\n",
    "        for key in ground: # 각 위치별로 파내기/쌓기를 통해 시간을 계산해서 cur_time을 갱신\n",
    "            if key > f: #해당 층수가 for문의 현재 층수보다 크면\n",
    "                cur_time += (key - f)*ground[key]*2 # 파내야할 층수 * 파낼 위치 개수 * 2초\n",
    "            else:\n",
    "                cur_time += (f - key)*ground[key] # 쌓을 층 수 * 쌓을 위치 개수 * 1초\n",
    "                \n",
    "        if cur_time <= time:\n",
    "            time = cur_time\n",
    "            floor = f\n",
    "            \n",
    "print(time, floor)"
   ]
  }
 ],
 "metadata": {
  "kernelspec": {
   "display_name": "Python 3 (ipykernel)",
   "language": "python",
   "name": "python3"
  },
  "language_info": {
   "codemirror_mode": {
    "name": "ipython",
    "version": 3
   },
   "file_extension": ".py",
   "mimetype": "text/x-python",
   "name": "python",
   "nbconvert_exporter": "python",
   "pygments_lexer": "ipython3",
   "version": "3.8.6"
  }
 },
 "nbformat": 4,
 "nbformat_minor": 5
}
