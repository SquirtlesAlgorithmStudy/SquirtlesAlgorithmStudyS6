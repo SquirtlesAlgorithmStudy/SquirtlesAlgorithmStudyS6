{
 "cells": [
  {
   "cell_type": "markdown",
   "id": "5a56b234-5b22-4f14-9d1a-c2fe7f2fb1e6",
   "metadata": {},
   "source": [
    "## 아이디어 및 풀이  \n",
    "\n",
    "데이터를 첫 번째 열(서류성적)기준으로 오름차순 정렬을 해주고(순위는 작은 값 부터가 높은 점수를 받으므로)  \n",
    "데이터의 두 번째 열(면접성적)의 ranking을 갱신해 가면서 더 작으면 counting, 더 크면 pass 하는 방식으로 구현  \n",
    "\n",
    "** input = sys.stdin.readline을 해주지 않으면 해당코드에서는 시간초과가 발생한다."
   ]
  },
  {
   "cell_type": "code",
   "execution_count": null,
   "id": "67982adb-97ea-4e6c-ad11-12af23785af5",
   "metadata": {},
   "outputs": [],
   "source": [
    "t = int(input())\n",
    "\n",
    "for _ in range(t):\n",
    "    n = int(input())\n",
    "    ranking = [tuple(map(int, input().split())) for _ in range(n)]\n",
    "    ranking.sort()\n",
    "    \n",
    "    high_ranking = 100001\n",
    "    cnt = 0\n",
    "    \n",
    "    for x, y in ranking:\n",
    "        if y < high_ranking:\n",
    "            cnt += 1\n",
    "            high_ranking = y\n",
    "    print(cnt)\n",
    "    "
   ]
  }
 ],
 "metadata": {
  "kernelspec": {
   "display_name": "Python 3 (ipykernel)",
   "language": "python",
   "name": "python3"
  },
  "language_info": {
   "codemirror_mode": {
    "name": "ipython",
    "version": 3
   },
   "file_extension": ".py",
   "mimetype": "text/x-python",
   "name": "python",
   "nbconvert_exporter": "python",
   "pygments_lexer": "ipython3",
   "version": "3.8.6"
  }
 },
 "nbformat": 4,
 "nbformat_minor": 5
}
