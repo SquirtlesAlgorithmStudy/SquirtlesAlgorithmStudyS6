{
 "cells": [
  {
   "cell_type": "markdown",
   "id": "d801741b-0563-4e79-83a4-07ebfc8388df",
   "metadata": {},
   "source": [
    "## 풀이 및 아이디어  \n",
    "\n",
    "0.5의 의미를 제대로 이해하지 못함 >> 블로그를 보고 이해  \n",
    "\n",
    "idea) 첫 테이프를 붙이고 테이프의 범위 내에 있으면 넘어가고, 범위 밖에 있으면 새로 붙이는 방식으로 구현"
   ]
  },
  {
   "cell_type": "code",
   "execution_count": null,
   "id": "88073dfc-0964-4d87-9f9e-8ee110b248f3",
   "metadata": {},
   "outputs": [],
   "source": [
    "n, l = map(int, input().split(' '))\n",
    "water= list(map(int, input().split(' ')))\n",
    "\n",
    "water.sort()\n",
    "cnt = 1\n",
    "s = water[0]\n",
    "for i in range(1, n):\n",
    "    if water[i] < s - 0.5 + l:\n",
    "        continue\n",
    "    else:\n",
    "        cnt += 1\n",
    "        s = water[i]\n",
    "        \n",
    "print(cnt)"
   ]
  }
 ],
 "metadata": {
  "kernelspec": {
   "display_name": "Python 3 (ipykernel)",
   "language": "python",
   "name": "python3"
  },
  "language_info": {
   "codemirror_mode": {
    "name": "ipython",
    "version": 3
   },
   "file_extension": ".py",
   "mimetype": "text/x-python",
   "name": "python",
   "nbconvert_exporter": "python",
   "pygments_lexer": "ipython3",
   "version": "3.8.6"
  }
 },
 "nbformat": 4,
 "nbformat_minor": 5
}
