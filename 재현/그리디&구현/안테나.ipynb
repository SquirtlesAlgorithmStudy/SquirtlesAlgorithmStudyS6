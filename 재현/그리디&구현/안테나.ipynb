{
 "cells": [
  {
   "cell_type": "markdown",
   "id": "e6592546-ae7f-43b2-af02-e907eadf5be3",
   "metadata": {},
   "source": [
    "## 풀이 및 아이디어  \n",
    "\n",
    "idea) 중간의 위치에 있는 집으로부터 다른 집으로의 거리의 합이 가장 작을 것  \n",
    "\n",
    "증명) ??  \n",
    "\n",
    "예시)  \n",
    "a b c d e\n",
    "\n",
    "2 1 0 1 2\n",
    "\n",
    "3 2 1 0 1\n",
    "\n",
    "4 3 2 1 0\n",
    "  \n",
    "문제 조건에 동일한 합을 가지는 집중에서는 작은 번호를 택하라 했으므로 아래와 같이 구현\n"
   ]
  },
  {
   "cell_type": "code",
   "execution_count": null,
   "id": "ee32fe83-3359-4562-92e8-a4614859a2ac",
   "metadata": {},
   "outputs": [],
   "source": [
    "n = int(input())\n",
    "l = list(map(int, input().split(' ')))\n",
    "\n",
    "l.sort()\n",
    "\n",
    "if n%2 == 0:\n",
    "    mid = n//2 - 1\n",
    "    \n",
    "else :\n",
    "    mid = n//2\n",
    "    \n",
    "print(l[mid])"
   ]
  },
  {
   "cell_type": "code",
   "execution_count": null,
   "id": "172fb77d-3838-4460-90d0-7fd1ea15511a",
   "metadata": {},
   "outputs": [],
   "source": []
  }
 ],
 "metadata": {
  "kernelspec": {
   "display_name": "Python 3 (ipykernel)",
   "language": "python",
   "name": "python3"
  },
  "language_info": {
   "codemirror_mode": {
    "name": "ipython",
    "version": 3
   },
   "file_extension": ".py",
   "mimetype": "text/x-python",
   "name": "python",
   "nbconvert_exporter": "python",
   "pygments_lexer": "ipython3",
   "version": "3.8.6"
  }
 },
 "nbformat": 4,
 "nbformat_minor": 5
}
