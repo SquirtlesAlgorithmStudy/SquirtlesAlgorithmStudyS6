{
 "cells": [
  {
   "cell_type": "markdown",
   "id": "4f4c1ca3-7485-41ac-a0ba-ef25774722bf",
   "metadata": {},
   "source": [
    "## 풀이 및 아이디어  \n",
    "\n",
    "idea) 로프의 무게가 나오는 경우는 총 3가지  \n",
    "1. 로프 하나가 감당할 수 있는 무게가 매우 클 경우  \n",
    "2. n개의 로프중 n-r개 로프로 감당하는 무게가 제일 큰 경우\n",
    "3. n개의 로프를 모두 썼을 때 감당하는 무게가 제일 큰 경우  \n",
    "가장 큰 1개 무게(1번), 그 다음 2개, 그 다음 3개 ... 순으로 확인해 n개 모두(3번) 쓰는 경우 까지 확인  \n",
    "m개의 로프를 써야 하는 경우 가장 `(작은 값 x m)`으로 그 무게를 도출 할 수 있다.\n",
    "무게를 `내림차순` 정렬을 하고 위의 경우를 확인해 나가면서 `최대값`을 갱신해 값을 찾는다."
   ]
  },
  {
   "cell_type": "code",
   "execution_count": null,
   "id": "257acbe0-2293-4aad-ba6a-353b4e5bac05",
   "metadata": {},
   "outputs": [],
   "source": [
    "n = int(input())\n",
    "lope_weight = [int(input()) for _ in range(n)]\n",
    "\n",
    "lope_weight.sort(reverse = True) # 내림차순\n",
    "m = float('-inf') # 최소값 초기화\n",
    "\n",
    "for i in range(len(lope_weight)):\n",
    "    if (i+1)*lope_weight[i] > m:\n",
    "        m = (i+1)*lope_weight[i]\n",
    "        \n",
    "print(m)"
   ]
  }
 ],
 "metadata": {
  "kernelspec": {
   "display_name": "Python 3 (ipykernel)",
   "language": "python",
   "name": "python3"
  },
  "language_info": {
   "codemirror_mode": {
    "name": "ipython",
    "version": 3
   },
   "file_extension": ".py",
   "mimetype": "text/x-python",
   "name": "python",
   "nbconvert_exporter": "python",
   "pygments_lexer": "ipython3",
   "version": "3.8.6"
  }
 },
 "nbformat": 4,
 "nbformat_minor": 5
}
