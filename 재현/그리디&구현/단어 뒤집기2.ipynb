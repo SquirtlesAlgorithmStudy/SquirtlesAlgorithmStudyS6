{
 "cells": [
  {
   "cell_type": "markdown",
   "id": "dbca86bf-0777-47d2-bccc-311ba3de3178",
   "metadata": {},
   "source": [
    "## 풀이 초안 및 아이디어  \n",
    "\n",
    "문제 요구사항을 그대로 구현한 코드 tag 안의 문자는 뒤집지 않고 밖의 문자는 뒤집는다.  \n",
    "tag는 '<...>'를 하나의 문자로 보고 그 외 ' ', 문자를 따로 리스트에 담아넣고  \n",
    "tag이면 뒤집지 않고 tag가 아니면 뒤집어 이어붙이는 방식으로 구현  \n",
    "\n",
    "초안의 방식은 정답처리는 되었으나 코드가 너무 지저분해서 깔끔하게 만들고 싶었음"
   ]
  },
  {
   "cell_type": "code",
   "execution_count": 27,
   "id": "63c7ce3a-ca4a-49a0-b173-90517a4c9c39",
   "metadata": {},
   "outputs": [
    {
     "name": "stdin",
     "output_type": "stream",
     "text": [
      " 1eno 2owt 3eerht rruof4 evif5 xis6\n"
     ]
    },
    {
     "name": "stdout",
     "output_type": "stream",
     "text": [
      "['1eno', ' ', '2owt', ' ', '3eerht', ' ', 'rruof4', ' ', 'evif5', ' ', 'xis6']\n",
      "one1 two2 three3 4fourr 5five 6six\n"
     ]
    }
   ],
   "source": [
    "s = input()\n",
    "\n",
    "word = ''\n",
    "s_list = []\n",
    "\n",
    "for x in s:\n",
    "    \n",
    "    if x == '<': #<가 있을때\n",
    "        if word == '':#기존 word에 아무것도 없으면 < 넣고\n",
    "            word = '<'\n",
    "        else:#아니면 list에 word를 추가 (이 경우는 한 단어가 완성되고 그 다음에 붙어오는 < 이기 때문)\n",
    "            s_list.append(word)\n",
    "            word = '<'\n",
    "    \n",
    "    elif '<' in word and x == ' ': #< 안의 ' '는 그대로 넣어주고\n",
    "        word += x\n",
    "        \n",
    "    elif x == ' ':#< 밖의 ' '는 단어 분기점이므로 다르게 처리\n",
    "        if word == '': # word에 아무것도 없으면 list에 ' '을 넣어주고(단어 시작 전 첫 공백)\n",
    "            s_list.append(' ')\n",
    "        else:# word에 뭐가 있다면 이미 완성된 단어이므로 list에 추가해 주면서 ' '도 추가해줌, word는 초기화\n",
    "            s_list.append(word)\n",
    "            s_list.append(' ')\n",
    "            word = ''\n",
    "    elif x == '>':# >로 닫히면 word에 넣어주고 list에 추가 (태그의 완성)\n",
    "        word += '>'\n",
    "        s_list.append(word)\n",
    "        word = ''\n",
    "    else:# 나머지의 경우는 태그 이외의 일반 단어의 문자이므로 word에 추가\n",
    "        word += x\n",
    "        \n",
    "s_list.append(word)\n",
    "print(s_list)\n",
    "result = ''\n",
    "\n",
    "for y in s_list: #for문을 통해서 tag는 그대로 넣고 일반 문자는 뒤집어서 붙여주고 출력\n",
    "    if y == ' ' or '<' in y:\n",
    "        result += y\n",
    "    else:\n",
    "        result += y[::-1]\n",
    "        \n",
    "print(result)"
   ]
  },
  {
   "cell_type": "markdown",
   "id": "637560da-3480-484a-b924-c38a7c7fd739",
   "metadata": {},
   "source": [
    "## 풀이2  \n",
    "\n",
    "tag를 활성화 여부를 만들어서 구현  \n",
    "단어가 뒤집히므로 stack 개념 활용"
   ]
  },
  {
   "cell_type": "code",
   "execution_count": 33,
   "id": "f408df2e-4d29-4c3f-9be6-54d6ead77fd3",
   "metadata": {},
   "outputs": [
    {
     "name": "stdin",
     "output_type": "stream",
     "text": [
      " one1 two2 three3 4fourr 5five 6six\n"
     ]
    },
    {
     "name": "stdout",
     "output_type": "stream",
     "text": [
      "1eno 2owt 3eerht rruof4 evif5 xis6\n"
     ]
    }
   ],
   "source": [
    "s = input()\n",
    "\n",
    "words = []\n",
    "tag = False\n",
    "result = \"\"\n",
    "\n",
    "for x in s:\n",
    "    \n",
    "    if tag == False: # tag가 아닌 일반 문자이면\n",
    "        if x == '<': #<가 있으면 기존 word는 완성된 단어이므로 하나씩 빼서 결과에 붙임\n",
    "            while words:\n",
    "                result += words.pop()\n",
    "            tag = True #tag 활성화\n",
    "            result += x #<를 결과에 붙여줌\n",
    "            \n",
    "        elif x == ' ': #공백이 있으면 그 앞의 word가 완성된 단어이므로 이하생략\n",
    "            while words:\n",
    "                result += words.pop()\n",
    "            result += x\n",
    "            \n",
    "        else: # 그외 문자는 stack에 추가 \n",
    "            words.append(x)\n",
    "\n",
    "            \n",
    "    elif tag == True:# tag가 활성화 되어있으면\n",
    "        \n",
    "        if x != '>': # >로 닫히기 전까지는 결과에 다 추가\n",
    "            result += x\n",
    "        else: # > 가 등장하면 tag를 비활성화 시켜주고 결과에 추가\n",
    "            tag = False\n",
    "            result += x\n",
    "            \n",
    "if words:# 해당 코드는 마지막 문자에 대한 처리가 한번에 진행되지 않아 마지막에 따로 추가 해줘야함\n",
    "    while words:\n",
    "        result += words.pop()\n",
    "        \n",
    "print(result)"
   ]
  },
  {
   "cell_type": "markdown",
   "id": "e1d3f268-69bf-4ced-a73c-7574921dcc78",
   "metadata": {},
   "source": [
    "## 풀이3  \n",
    "\n",
    "while문과 slicing을 활용, 분기처리 안에서 while문을 통해 깔끔하게 tag부분을 처리해줌  \n",
    "시간초과 발생"
   ]
  },
  {
   "cell_type": "code",
   "execution_count": 3,
   "id": "c5712e0a-4b65-42d7-aff1-1986064ef5a1",
   "metadata": {},
   "outputs": [
    {
     "name": "stdin",
     "output_type": "stream",
     "text": [
      " one1 two2 three3 4fourr 5five 6six\n"
     ]
    },
    {
     "name": "stdout",
     "output_type": "stream",
     "text": [
      "1eno 2owt 3eerht rruof4 evif5 xis6\n"
     ]
    }
   ],
   "source": [
    "\n",
    "words = input()\n",
    "result = ''\n",
    "\n",
    "i = 0\n",
    "start = 0\n",
    "\n",
    "while i < len(words):\n",
    "\n",
    "    if words[i] == '<': #태그가 시작되면\n",
    "        start = i\n",
    "        while words[i] != '>': #닫힐때 까지 i를 추가해주고\n",
    "            i += 1\n",
    "        \n",
    "        i += 1\n",
    "        result += words[start:i] #slicing을 통해 결과에 추가\n",
    "        i += 1\n",
    "        \n",
    "    elif words[i] == ' ': # 공백은 그대로 넣고\n",
    "        result += ' '\n",
    "        i += 1\n",
    "    \n",
    "    else: # 태그 외의 문자의 경우 알파벳, 숫자이면 i를 더해서 slicing으로 잘라내고 뒤집어서 결과에 추가\n",
    "        tmp = ''\n",
    "        start = i\n",
    "        while i < len(words) and words[i].isalnum():\n",
    "            i += 1\n",
    "        tmp = words[start:i]\n",
    "        result += ('').join(tmp[::-1])\n",
    "        \n",
    "print(result)"
   ]
  },
  {
   "cell_type": "code",
   "execution_count": null,
   "id": "812a82d3-9b6b-4b39-94e1-89075fd8daab",
   "metadata": {},
   "outputs": [],
   "source": []
  }
 ],
 "metadata": {
  "kernelspec": {
   "display_name": "Python 3 (ipykernel)",
   "language": "python",
   "name": "python3"
  },
  "language_info": {
   "codemirror_mode": {
    "name": "ipython",
    "version": 3
   },
   "file_extension": ".py",
   "mimetype": "text/x-python",
   "name": "python",
   "nbconvert_exporter": "python",
   "pygments_lexer": "ipython3",
   "version": "3.8.6"
  }
 },
 "nbformat": 4,
 "nbformat_minor": 5
}
