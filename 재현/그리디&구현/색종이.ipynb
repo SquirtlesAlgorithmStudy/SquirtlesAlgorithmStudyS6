{
 "cells": [
  {
   "cell_type": "markdown",
   "id": "d28a8e30-5f32-4b07-b4fb-3a6cafe251c8",
   "metadata": {},
   "source": [
    "### 풀이 및 아이디어  \n",
    "\n",
    "넓이 구하는 식을 도출하려 시도했으나 실패  \n",
    "\n",
    "idea) 가로,세로 1인 정사각형의 넓이 = 1, 넓이 1인 정사각형을 합해 전체 색종이 면적을 구할 수 있음 \n",
    "1) 100x100 크기의 2차원 배열(값은 0)을 만든다.\n",
    "2) 색종이가 덮는 위치를 1로 변경(이미 덮은 색종이는 넘어간다)  \n",
    "3) 모든 1을 합하면 넓이를 구할 수 있다.  \n",
    "제 코드에서는 2, 3을 한번에 처리했습니다."
   ]
  },
  {
   "cell_type": "code",
   "execution_count": null,
   "id": "b5ea1ac7-40af-4026-ad3b-ffecdb64a633",
   "metadata": {},
   "outputs": [],
   "source": [
    "l = [[0 for _ in range(101)] for _ in range(101)] #[[0]*101 for _ in range(101)]\n",
    "n = int(input())\n",
    "area = 0\n",
    "for _ in range(n):\n",
    "    left, bottom = map(int,input().split(' '))\n",
    "    for i in range(10):\n",
    "        for j in range(10):\n",
    "            if l[left+i][bottom+j] == 0:\n",
    "                l[left+i][bottom+j] = 1\n",
    "                area += 1\n",
    "                \n",
    "\n",
    "print(area)"
   ]
  }
 ],
 "metadata": {
  "kernelspec": {
   "display_name": "Python 3 (ipykernel)",
   "language": "python",
   "name": "python3"
  },
  "language_info": {
   "codemirror_mode": {
    "name": "ipython",
    "version": 3
   },
   "file_extension": ".py",
   "mimetype": "text/x-python",
   "name": "python",
   "nbconvert_exporter": "python",
   "pygments_lexer": "ipython3",
   "version": "3.8.6"
  }
 },
 "nbformat": 4,
 "nbformat_minor": 5
}
