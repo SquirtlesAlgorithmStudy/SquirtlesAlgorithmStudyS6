{
 "cells": [
  {
   "cell_type": "markdown",
   "id": "245e6589-eb11-4e52-93be-82e3bf9dc602",
   "metadata": {},
   "source": [
    "맨 위만 성공 나머지는 다 실패"
   ]
  },
  {
   "cell_type": "code",
   "execution_count": 37,
   "id": "47fae8b4-f2fa-4513-9de6-a60866f2219a",
   "metadata": {},
   "outputs": [
    {
     "name": "stdin",
     "output_type": "stream",
     "text": [
      " 4 7\n",
      " 20 15 10 17\n"
     ]
    },
    {
     "name": "stdout",
     "output_type": "stream",
     "text": [
      "15\n"
     ]
    }
   ],
   "source": [
    "n, m = map(int, input().split())\n",
    "tree = list(map(int, input().split()))\n",
    "l, h = 1, max(tree)\n",
    "\n",
    "while l <= h:\n",
    "    mid = (l + h )//2\n",
    "    s = 0\n",
    "    \n",
    "    for t in tree:\n",
    "        if t > mid:\n",
    "            s += (t - mid)\n",
    "            \n",
    "    if s >= m:\n",
    "        l = mid + 1\n",
    "    else:\n",
    "        h = mid - 1\n",
    "        \n",
    "print(h)"
   ]
  },
  {
   "cell_type": "code",
   "execution_count": 35,
   "id": "64dfb4a3-607b-4c88-ad22-0b3c078dd639",
   "metadata": {
    "tags": []
   },
   "outputs": [
    {
     "name": "stdin",
     "output_type": "stream",
     "text": [
      " 4 7\n",
      " 20 15 10 17\n"
     ]
    },
    {
     "ename": "KeyboardInterrupt",
     "evalue": "",
     "output_type": "error",
     "traceback": [
      "\u001b[1;31m---------------------------------------------------------------------------\u001b[0m",
      "\u001b[1;31mKeyboardInterrupt\u001b[0m                         Traceback (most recent call last)",
      "Cell \u001b[1;32mIn[35], line 10\u001b[0m\n\u001b[0;32m      8\u001b[0m s \u001b[38;5;241m=\u001b[39m \u001b[38;5;241m0\u001b[39m\n\u001b[0;32m      9\u001b[0m \u001b[38;5;28;01mfor\u001b[39;00m x \u001b[38;5;129;01min\u001b[39;00m wood:\n\u001b[1;32m---> 10\u001b[0m     \u001b[38;5;28;01mif\u001b[39;00m \u001b[43mx\u001b[49m \u001b[38;5;241m>\u001b[39m mid: \u001b[38;5;66;03m#중앙값보다 크면\u001b[39;00m\n\u001b[0;32m     11\u001b[0m         s \u001b[38;5;241m+\u001b[39m\u001b[38;5;241m=\u001b[39m (x\u001b[38;5;241m-\u001b[39mmid) \u001b[38;5;66;03m#잘라서 더하기\u001b[39;00m\n\u001b[0;32m     13\u001b[0m     \u001b[38;5;28;01mif\u001b[39;00m s \u001b[38;5;241m>\u001b[39m m:\n",
      "\u001b[1;31mKeyboardInterrupt\u001b[0m: "
     ]
    }
   ],
   "source": [
    "\n",
    "n, m = map(int, input().split())\n",
    "wood = list(map(int, input().split()))\n",
    "h = max(wood)\n",
    "l = 1\n",
    "\n",
    "while l <= h:\n",
    "    mid = (l + h+ 1)//2 #중앙값설정\n",
    "    s = 0\n",
    "    for x in wood:\n",
    "        if x > mid: #중앙값보다 크면\n",
    "            s += (x-mid) #잘라서 더하기\n",
    "            \n",
    "        if s > m:\n",
    "            break\n",
    "            \n",
    "    if s >= m: #m보다 같거나 크면 나무를 더 짧게 자름 -> l값을 오른쪽으로\n",
    "        l = mid\n",
    "    else: # m보다 작으면 나무를 더 길게 자름 -> h값을 왼쪽으로\n",
    "        h = mid\n",
    "\n",
    "print(l)"
   ]
  },
  {
   "cell_type": "code",
   "execution_count": 31,
   "id": "cdd96d7d-51fe-4512-a05e-7b799085c353",
   "metadata": {},
   "outputs": [
    {
     "name": "stdin",
     "output_type": "stream",
     "text": [
      " 4 7\n",
      " 20 15 10 17\n"
     ]
    },
    {
     "name": "stdout",
     "output_type": "stream",
     "text": [
      "15\n"
     ]
    }
   ],
   "source": [
    "n, m = map(int, input().split())\n",
    "tree = list(map(int, input().split()))\n",
    "start = 1\n",
    "end = max(tree)\n",
    "mid = 0\n",
    "while start <= end:\n",
    "    mid = (start+end)//2\n",
    "    ans=0\n",
    "    for i in tree:\n",
    "        if i > mid:\n",
    "            ans += (i-mid)\n",
    "        if ans > m:\t\n",
    "            break\n",
    "    if ans >= m:\n",
    "        start = mid + 1\n",
    "    else:\n",
    "        end = mid - 1\n",
    "\n",
    "print(end)"
   ]
  },
  {
   "cell_type": "code",
   "execution_count": null,
   "id": "2feca9df-eb92-456b-baf9-8f252540c3f5",
   "metadata": {},
   "outputs": [],
   "source": []
  }
 ],
 "metadata": {
  "kernelspec": {
   "display_name": "Python 3 (ipykernel)",
   "language": "python",
   "name": "python3"
  },
  "language_info": {
   "codemirror_mode": {
    "name": "ipython",
    "version": 3
   },
   "file_extension": ".py",
   "mimetype": "text/x-python",
   "name": "python",
   "nbconvert_exporter": "python",
   "pygments_lexer": "ipython3",
   "version": "3.8.6"
  }
 },
 "nbformat": 4,
 "nbformat_minor": 5
}
