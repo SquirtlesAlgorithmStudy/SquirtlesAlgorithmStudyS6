{
 "cells": [
  {
   "cell_type": "markdown",
   "id": "30984dfc-cb60-429d-84e3-617225811b72",
   "metadata": {},
   "source": [
    "### 아이디어  \n",
    "이분탐색을 위한 기준 정의 : 블루레이의 용량 -> 용량최대 : 모든 영상길이의 합 : bv 개수1, 용량최소 : 보유영상중 최대길이\n",
    "  \n",
    "ex) 1,2,3,4,5,6,7,8,9  \n",
    "    bv의 용량이 45이면 bv 1개로 모든영상을 다 담을 수 있다, bv의 용량이 8이면 길이가 9인 영상을 담을 수 없기 때문에 최소 용량은 9이어야 한다.  \n",
    "    \n",
    "최소~ 최대 용량사이의 중앙값을 기준으로 정의하고 이분탐색 진행  \n",
    "탐색 진행 후 산출되는 값이 영상을 모두 담을 수 있는 최소 용량이 됨\n"
   ]
  },
  {
   "cell_type": "code",
   "execution_count": 10,
   "id": "77ebc08b-96bf-4fed-ad3e-0559fac4b914",
   "metadata": {},
   "outputs": [
    {
     "name": "stdin",
     "output_type": "stream",
     "text": [
      " 9 3\n",
      " 1 2 3 4 5 6 7 8 9\n"
     ]
    },
    {
     "name": "stdout",
     "output_type": "stream",
     "text": [
      "17\n"
     ]
    }
   ],
   "source": [
    "N, M = map(int, input().split())\n",
    "video = list(map(int, input().split()))\n",
    "\n",
    "bv_max = sum(video)\n",
    "bv_min = max(video)\n",
    "\n",
    "while bv_min <= bv_max:\n",
    "    mid = (bv_max + bv_min)//2\n",
    "    time = 0\n",
    "    bv_num = 0\n",
    "    \n",
    "    for v in video:\n",
    "        if (time + v) > mid:\n",
    "            bv_num += 1\n",
    "            time = 0\n",
    "        \n",
    "        time += v\n",
    "            \n",
    "    else:\n",
    "        if time > 0:\n",
    "            bv_num += 1\n",
    "        \n",
    "    if bv_num > M:\n",
    "        bv_min = mid + 1\n",
    "    else:\n",
    "        bv_max = mid - 1\n",
    "        \n",
    "print(bv_min)"
   ]
  },
  {
   "cell_type": "code",
   "execution_count": 8,
   "id": "63389e07-b9a6-49bb-879a-dfd2f3e4ebd4",
   "metadata": {},
   "outputs": [
    {
     "data": {
      "text/plain": [
       "14"
      ]
     },
     "execution_count": 8,
     "metadata": {},
     "output_type": "execute_result"
    }
   ],
   "source": []
  },
  {
   "cell_type": "code",
   "execution_count": null,
   "id": "424fd02f-bd15-45df-9578-cbd2f07d582d",
   "metadata": {},
   "outputs": [],
   "source": []
  }
 ],
 "metadata": {
  "kernelspec": {
   "display_name": "Python 3 (ipykernel)",
   "language": "python",
   "name": "python3"
  },
  "language_info": {
   "codemirror_mode": {
    "name": "ipython",
    "version": 3
   },
   "file_extension": ".py",
   "mimetype": "text/x-python",
   "name": "python",
   "nbconvert_exporter": "python",
   "pygments_lexer": "ipython3",
   "version": "3.8.6"
  }
 },
 "nbformat": 4,
 "nbformat_minor": 5
}
