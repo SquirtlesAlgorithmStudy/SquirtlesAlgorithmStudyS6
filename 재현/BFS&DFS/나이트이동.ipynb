{
 "cells": [
  {
   "cell_type": "code",
   "execution_count": 9,
   "id": "e6d9f31c-3a35-431d-be4e-6f0b9e8bc909",
   "metadata": {},
   "outputs": [
    {
     "name": "stdin",
     "output_type": "stream",
     "text": [
      " 3\n",
      " 8\n",
      " 0 0\n",
      " 7 0\n",
      " 100\n",
      " 0 0\n",
      " 30 50\n",
      " 10\n",
      " 1 1\n",
      " 1 1\n"
     ]
    },
    {
     "name": "stdout",
     "output_type": "stream",
     "text": [
      "0\n"
     ]
    }
   ],
   "source": [
    "from collections import deque\n",
    "\n",
    "t = int(input())\n",
    "dx = [1, 1, -1, -1, 2, 2, -2, -2]\n",
    "dy = [2, -2, 2, -2, 1, -1, 1, -1]\n",
    "\n",
    "for _ in range(t):\n",
    "    n = int(input())\n",
    "    start_x, start_y = map(int, input().split())\n",
    "    end_x, end_y = map(int, input().split())\n",
    "    cnt = 0\n",
    "    \n",
    "    world = [[False]*n for _ in range(n)]\n",
    "    world[start_x][start_y] = 0\n",
    "    \n",
    "    queue = deque()\n",
    "    queue.append((start_x, start_y))\n",
    "    \n",
    "    while queue:\n",
    "        x, y = queue.popleft()\n",
    "        if (x, y) == (end_x, end_y):\n",
    "            break\n",
    "        \n",
    "        for i in range(8):\n",
    "            nx = x + dx[i]\n",
    "            ny = y + dy[i]\n",
    "            \n",
    "            if (0 <= nx < n) and (0 <= ny < n) and (world[nx][ny] == False):\n",
    "                world[nx][ny] = world[x][y] + 1\n",
    "                queue.append((nx, ny))\n",
    "\n",
    "    print(world[end_x][end_y])"
   ]
  },
  {
   "cell_type": "code",
   "execution_count": null,
   "id": "1c2e7611-50c9-4c1b-9c68-f23ad0a2c263",
   "metadata": {},
   "outputs": [],
   "source": []
  }
 ],
 "metadata": {
  "kernelspec": {
   "display_name": "Python 3 (ipykernel)",
   "language": "python",
   "name": "python3"
  },
  "language_info": {
   "codemirror_mode": {
    "name": "ipython",
    "version": 3
   },
   "file_extension": ".py",
   "mimetype": "text/x-python",
   "name": "python",
   "nbconvert_exporter": "python",
   "pygments_lexer": "ipython3",
   "version": "3.8.6"
  }
 },
 "nbformat": 4,
 "nbformat_minor": 5
}
