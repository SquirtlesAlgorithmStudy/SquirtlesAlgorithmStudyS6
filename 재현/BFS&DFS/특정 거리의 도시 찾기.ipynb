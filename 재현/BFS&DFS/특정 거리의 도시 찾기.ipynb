{
 "cells": [
  {
   "cell_type": "markdown",
   "id": "914b8c49-438e-4857-93f3-2f23b05eceb6",
   "metadata": {},
   "source": [
    "## 풀이 및 아이디어  \n",
    "\n",
    "1) 시작도시 - 다른도시 사이의 이동거리를 계산 -> bfs  \n",
    "2) 도시 number에 해당하는 index 위치에 해당 거리를 저장(list배열)  \n",
    "3) k값과 일치하는 값이 존재하는 index를 불러오면 그것이 도시임"
   ]
  },
  {
   "cell_type": "code",
   "execution_count": 12,
   "id": "5b659cb0-65fb-4c4e-beed-c234d71ea7fc",
   "metadata": {},
   "outputs": [
    {
     "name": "stdin",
     "output_type": "stream",
     "text": [
      " 4 4 1 1\n",
      " 1 2\n",
      " 1 3\n",
      " 2 3\n",
      " 2 4\n"
     ]
    },
    {
     "name": "stdout",
     "output_type": "stream",
     "text": [
      "2\n",
      "3\n"
     ]
    }
   ],
   "source": [
    "from collections import deque\n",
    "\n",
    "n, m, k, x = map(int, input().split())\n",
    "way = [[] for _ in range(n+1)] # 도시개수만큼 빈칸 만들기\n",
    "\n",
    "for _ in range(m): #도로의 수 만큼 돌면서 way 채우기\n",
    "    i, v = tuple(map(int, input().split()))\n",
    "    way[i].append(v)\n",
    "    \n",
    "distance = [-1]*(n+1)\n",
    "distance[x] = 0\n",
    "\n",
    "queue = deque([x])\n",
    "    \n",
    "while queue:\n",
    "    now = queue.popleft()\n",
    "    for i in way[now]:\n",
    "        if distance[i] == -1: #처음 방문하는 곳에 한해서 distance를 갱신해줌 \n",
    "            distance[i] = distance[now] + 1 #현재 위치의 다음 위치로의 거리이므로 현위치까지의 거리 + 1\n",
    "            queue.append(i)\n",
    "                \n",
    "                \n",
    "check = False\n",
    "\n",
    "for i, y in enumerate(b):\n",
    "    if y == k:\n",
    "        print(i)\n",
    "        check = True\n",
    "        \n",
    "if check == False:\n",
    "    print(-1)\n"
   ]
  },
  {
   "cell_type": "code",
   "execution_count": 14,
   "id": "291e8905-80c0-4206-bb7e-ca8f67312e89",
   "metadata": {},
   "outputs": [
    {
     "data": {
      "text/plain": [
       "deque([2])"
      ]
     },
     "execution_count": 14,
     "metadata": {},
     "output_type": "execute_result"
    }
   ],
   "source": [
    "from collections import deque\n",
    "\n",
    "def bfs(way, start, distance):\n",
    "    queue = deque([start])\n",
    "    \n",
    "    while queue:\n",
    "        now = queue.popleft()\n",
    "        for i in way[now]:\n",
    "            if distance[i] == -1: #처음 방문하는 곳에 한해서 distance를 갱신해줌 \n",
    "                distance[i] = distance[now] + 1 #현재 위치의 다음 위치로의 거리이므로 현위치까지의 거리 + 1\n",
    "                queue.append(i)\n",
    "    return distance\n",
    "\n",
    "n, m, k, x = map(int, input().split())\n",
    "way = [[] for _ in range(n+1)] # 도시개수만큼 빈칸 만들기\n",
    "\n",
    "for _ in range(m): #도로의 수 만큼 돌면서 way 채우기\n",
    "    i, v = tuple(map(int, input().split()))\n",
    "    way[i].append(v)\n",
    "    \n",
    "distance = [-1]*(n+1) # 0으로 초기화하고 bfs에서 distance[i] == 0으로 계산하면 x 위치로 되돌아오는 경로가\n",
    "                      # 생겼을 때 x 위치의 distance 값이 0이 아닌 값으로 증가하게 되므로 이렇게 처리\n",
    "distance[x] = 0\n",
    "\n",
    "b = bfs(way, x, distance)\n",
    "check = False\n",
    "\n",
    "for i, y in enumerate(b):\n",
    "    if y == k:\n",
    "        print(i)\n",
    "        check = True\n",
    "        \n",
    "if check == False:\n",
    "    print(-1)"
   ]
  },
  {
   "cell_type": "code",
   "execution_count": 17,
   "id": "ae8501cd-6859-4edf-b4a9-6225fed1a27a",
   "metadata": {},
   "outputs": [
    {
     "name": "stdin",
     "output_type": "stream",
     "text": [
      " 3 3 2 1\n",
      " 1 2\n",
      " 1 3\n",
      " 2 1\n"
     ]
    },
    {
     "name": "stdout",
     "output_type": "stream",
     "text": [
      "1\n"
     ]
    }
   ],
   "source": [
    "from collections import deque\n",
    "\n",
    "def bfs(way, start, distance):\n",
    "    queue = deque([start])\n",
    "    \n",
    "    while queue:\n",
    "        now = queue.popleft()\n",
    "        for i in way[now]:\n",
    "            if distance[i] == 0: #처음 방문하는 곳에 한해서 distance를 갱신해줌 \n",
    "                distance[i] = distance[now] + 1 #현재 위치의 다음 위치로의 거리이므로 현위치까지의 거리 + 1\n",
    "                queue.append(i)\n",
    "    return distance\n",
    "\n",
    "n, m, k, x = map(int, input().split())\n",
    "way = [[] for _ in range(n+1)] # 도시개수만큼 빈칸 만들기\n",
    "\n",
    "for _ in range(m): #도로의 수 만큼 돌면서 way 채우기\n",
    "    i, v = tuple(map(int, input().split()))\n",
    "    way[i].append(v)\n",
    "    \n",
    "distance = [0]*(n+1)\n",
    "\n",
    "b = bfs(way, x, distance)\n",
    "check = False\n",
    "\n",
    "for i, y in enumerate(b):\n",
    "    if y == k:\n",
    "        print(i)\n",
    "        check = True\n",
    "        \n",
    "if check == False:\n",
    "    print(-1)"
   ]
  },
  {
   "cell_type": "code",
   "execution_count": null,
   "id": "33fd0511-dd2b-4a25-a5a0-8998632775df",
   "metadata": {},
   "outputs": [],
   "source": []
  }
 ],
 "metadata": {
  "kernelspec": {
   "display_name": "Python 3 (ipykernel)",
   "language": "python",
   "name": "python3"
  },
  "language_info": {
   "codemirror_mode": {
    "name": "ipython",
    "version": 3
   },
   "file_extension": ".py",
   "mimetype": "text/x-python",
   "name": "python",
   "nbconvert_exporter": "python",
   "pygments_lexer": "ipython3",
   "version": "3.8.6"
  }
 },
 "nbformat": 4,
 "nbformat_minor": 5
}
