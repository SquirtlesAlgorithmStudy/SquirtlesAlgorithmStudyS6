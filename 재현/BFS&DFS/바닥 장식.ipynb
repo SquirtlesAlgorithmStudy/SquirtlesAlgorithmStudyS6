{
 "cells": [
  {
   "cell_type": "markdown",
   "id": "54b71704-5d97-45fd-8809-9697e0d97bfc",
   "metadata": {},
   "source": [
    "## 풀이 및 아이디어  \n",
    "\n",
    "1) '-' or '|'가 있는 특정 지점을 시작으로 이어져 있는 곳들을 모두 방문처리 -> dfs\n",
    "2) count"
   ]
  },
  {
   "cell_type": "code",
   "execution_count": 1,
   "id": "60c43258-1ea0-4816-8f75-7f03e63f58ad",
   "metadata": {},
   "outputs": [
    {
     "name": "stdin",
     "output_type": "stream",
     "text": [
      " 4 4\n",
      " ----\n",
      " ----\n",
      " ----\n",
      " ----\n"
     ]
    },
    {
     "name": "stdout",
     "output_type": "stream",
     "text": [
      "4\n"
     ]
    }
   ],
   "source": [
    "\n",
    "def dfs(x, y): \n",
    "    if graph[x][y] == '-':\n",
    "        graph[x][y] = 'o'\n",
    "        \n",
    "        for dy in [-1, 1]:\n",
    "            ny = y + dy\n",
    "            if (ny > 0 and ny < m) and graph[x][ny] == '-':\n",
    "                dfs(x, ny)\n",
    "                \n",
    "                \n",
    "    if graph[x][y] == '|':\n",
    "        graph[x][y] = 'o'\n",
    "        \n",
    "        for dx in [-1, 1]:\n",
    "            nx = x + dx\n",
    "            if (nx > 0 and nx < n) and graph[nx][y] == '|':\n",
    "                dfs(nx, y)\n",
    "    return\n",
    "                \n",
    "n, m = map(int, input().split()) # n : 세로, m : 가로\n",
    "\n",
    "graph = []\n",
    "\n",
    "for _ in range(n):\n",
    "    graph.append(list(input()))\n",
    "    \n",
    "count = 0\n",
    "\n",
    "for i in range(n):\n",
    "    for j in range(m):\n",
    "        if graph[i][j] in ('-', '|'):\n",
    "            dfs(i, j) # -나 |가 등장하는 순간 이어져있는 것들을 모두 제거해주고 \n",
    "            count += 1 # 하나카운트\n",
    "            \n",
    "print(count)"
   ]
  },
  {
   "cell_type": "code",
   "execution_count": 1,
   "id": "f546d36c-62a7-42b3-b456-2b4c31d914b6",
   "metadata": {},
   "outputs": [
    {
     "name": "stdin",
     "output_type": "stream",
     "text": [
      " 4 4\n",
      " ----\n",
      " ----\n",
      " ----\n",
      " ----\n"
     ]
    },
    {
     "name": "stdout",
     "output_type": "stream",
     "text": [
      "4\n"
     ]
    }
   ],
   "source": [
    "# dfs 알고리즘 함수 정의\n",
    "def dfs(x,y):\n",
    "    # 바닥 장식 모양이 '-' 일 때\n",
    "    if graph[x][y] == '-':\n",
    "        graph[x][y] = 1\t    # 해당 노드 방문처리\n",
    "        for _y in [1,-1]:   # 양옆(좌우) 확인하기\n",
    "            Y = y + _y\n",
    "            # 좌우 노드가 주어진 범위를 벗어나지 않고 '-'모양이라면 재귀함수 호출\n",
    "            if (Y > 0 and Y < m) and graph[x][Y] == '-':\n",
    "                dfs(x,Y)\n",
    "    # 바닥 장식 모양이 '|' 일 때\n",
    "    if graph[x][y] == '|':\n",
    "        graph[x][y] = 1\t    # 해당 노드 방문처리\n",
    "        for _x in [1,-1]:   # 상하(위아래) 확인하기\n",
    "            X = x + _x  \n",
    "            # 상하 노드가 주어진 범위를 벗어나지 않고 '|' 모양이라면 재귀함수 호출\n",
    "            if (X > 0 and X < n) and graph[X][y] == '|':\n",
    "                dfs(X,y)\n",
    "                \n",
    "    return\n",
    " \n",
    "n, m = map(int, input().split()) # 방 바닥의 세로 크기 n, 가로 크기 m\n",
    "graph = []  # 2차원 리스트의 맵 정보 저장할 공간\n",
    "for _ in range(n):\n",
    "    graph.append(list(input()))\n",
    "\n",
    "count = 0\n",
    "for i in range(n):\n",
    "    for j in range(m):\n",
    "        if graph[i][j] == '-' or graph[i][j] == '|':\n",
    "            dfs(i,j)    # 노드가 '-'이나 '|'일 경우에 재귀함수 호출\n",
    "            count += 1\n",
    "print(count)"
   ]
  },
  {
   "cell_type": "code",
   "execution_count": null,
   "id": "0b205c9b-ed95-4077-a39a-9faaa14849bb",
   "metadata": {},
   "outputs": [],
   "source": []
  }
 ],
 "metadata": {
  "kernelspec": {
   "display_name": "Python 3 (ipykernel)",
   "language": "python",
   "name": "python3"
  },
  "language_info": {
   "codemirror_mode": {
    "name": "ipython",
    "version": 3
   },
   "file_extension": ".py",
   "mimetype": "text/x-python",
   "name": "python",
   "nbconvert_exporter": "python",
   "pygments_lexer": "ipython3",
   "version": "3.8.6"
  }
 },
 "nbformat": 4,
 "nbformat_minor": 5
}
