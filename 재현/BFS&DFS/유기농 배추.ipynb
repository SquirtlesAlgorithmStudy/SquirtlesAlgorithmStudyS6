{
 "cells": [
  {
   "cell_type": "markdown",
   "id": "e701b564-1e77-4a73-99d8-bbc8b6e6e704",
   "metadata": {},
   "source": [
    "## 풀이 및 아이디어  \n",
    "\n",
    "1) 배추가 있는 특정 지점을 시작으로 이어져 있는 곳들을 모두 방문처리 -> bfs  \n",
    "2) count"
   ]
  },
  {
   "cell_type": "code",
   "execution_count": 14,
   "id": "38bb41b0-4030-429b-9a5d-917231bca065",
   "metadata": {},
   "outputs": [
    {
     "name": "stdin",
     "output_type": "stream",
     "text": [
      " 2\n",
      " 10 8 17\n",
      " 0 0\n",
      " 1 0\n",
      " 1 1\n",
      " 4 2\n",
      " 4 3\n",
      " 4 5\n",
      " 2 4\n",
      " 3 4\n",
      " 7 4\n",
      " 8 4\n",
      " 9 4\n",
      " 7 5\n",
      " 8 5\n",
      " 9 5\n",
      " 7 6\n",
      " 8 6\n",
      " 9 6\n",
      " 10 10 1\n",
      " 5 5\n"
     ]
    },
    {
     "name": "stdout",
     "output_type": "stream",
     "text": [
      "1\n"
     ]
    }
   ],
   "source": [
    "from collections import deque\n",
    "\n",
    "t = int(input())\n",
    "dx = [-1, 1, 0, 0]\n",
    "dy = [0, 0, -1, 1]\n",
    "\n",
    "def bfs(x, y): # 가로 x 세로 y\n",
    "    queue = deque()\n",
    "    queue.append((x,y))\n",
    "    \n",
    "    matrix[y][x] = 0 # 해당 배추를 보호하므로 1 > 0\n",
    "    \n",
    "    while queue:\n",
    "        x, y = queue.popleft()\n",
    "        \n",
    "        for i in range(4):\n",
    "            nx = x + dx[i]\n",
    "            ny = y + dy[i]\n",
    "            \n",
    "            if nx < 0 or nx >= m or ny < 0 or ny >= n:\n",
    "                continue\n",
    "            \n",
    "            if matrix[ny][nx] == 0:\n",
    "                continue\n",
    "            else:\n",
    "                queue.append((nx, ny))\n",
    "                matrix[ny][nx] = 0\n",
    "                \n",
    "for _ in range(t):\n",
    "    m, n, k = map(int,input().split())\n",
    "    matrix = [[0]*m for _ in range(n)] # 배추위치\n",
    "    \n",
    "    cnt = 0\n",
    "    for _ in range(k):\n",
    "        x, y = map(int, input().split()) # array에서는 indexing이 바뀌므로\n",
    "        matrix[y][x] = 1 # 모든 matrix entry를 호출할 때는 y, x로 바꾸어 생각\n",
    "        \n",
    "    for i in range(m):\n",
    "        for j in range(n):\n",
    "            if matrix[j][i] == 1:\n",
    "                bfs(i, j) # bfs를 통해 인접한 1들을 모두 0로 바꾸어버린다.\n",
    "                cnt += 1\n",
    "                \n",
    "    print(cnt)"
   ]
  },
  {
   "cell_type": "code",
   "execution_count": null,
   "id": "784db0e1-81c6-4d59-8610-d139538abaa8",
   "metadata": {},
   "outputs": [],
   "source": []
  }
 ],
 "metadata": {
  "kernelspec": {
   "display_name": "Python 3 (ipykernel)",
   "language": "python",
   "name": "python3"
  },
  "language_info": {
   "codemirror_mode": {
    "name": "ipython",
    "version": 3
   },
   "file_extension": ".py",
   "mimetype": "text/x-python",
   "name": "python",
   "nbconvert_exporter": "python",
   "pygments_lexer": "ipython3",
   "version": "3.8.6"
  }
 },
 "nbformat": 4,
 "nbformat_minor": 5
}
