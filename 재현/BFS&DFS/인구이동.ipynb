{
 "cells": [
  {
   "cell_type": "code",
   "execution_count": 15,
   "id": "b7afb265-1540-4e52-896f-e7fc7a2db07e",
   "metadata": {},
   "outputs": [
    {
     "name": "stdin",
     "output_type": "stream",
     "text": [
      " 2 40 50\n",
      " 50 30\n",
      " 20 40\n"
     ]
    },
    {
     "data": {
      "text/plain": [
       "0"
      ]
     },
     "execution_count": 15,
     "metadata": {},
     "output_type": "execute_result"
    }
   ],
   "source": [
    "from collections import deque\n",
    "import math\n",
    "\n",
    "n, l, r = map(int, input().split(' '))\n",
    "\n",
    "world = []\n",
    "day = 0\n",
    "dx = [1, 0, -1, 0]\n",
    "dy = [0, 1, 0, -1]\n",
    "\n",
    "\n",
    "for _ in range(n):\n",
    "    t = list(map(int, input().split(' ')))\n",
    "    world.append(t)\n",
    "    \n",
    "def bfs(x, y):\n",
    "    queue = deque()\n",
    "    queue.append((x, y))\n",
    "    visit[x][y] = True\n",
    "    \n",
    "    union = [(x, y)]\n",
    "    populations = world[x][y]\n",
    "    \n",
    "    while queue:\n",
    "        x, y = queue.popleft()\n",
    "        \n",
    "        for k in range(4):\n",
    "            nx = x + dx[k]\n",
    "            ny = y + dy[k]\n",
    "            \n",
    "            if nx < 0 or ny < 0 or nx >= n or ny >= n:\n",
    "                continue\n",
    "            if visit[nx][ny]:\n",
    "                continue\n",
    "            if l <= abs(world[nx][ny] - world[x][y]) <= r:\n",
    "                union.append((nx, ny))\n",
    "                visit[nx][ny] = True\n",
    "                queue.append((nx, ny))\n",
    "                populations += world[nx][ny]\n",
    "                \n",
    "    for x, y in union:\n",
    "        world[x][y] = math.floor(populations/len(union))\n",
    "        \n",
    "    return len(union)\n",
    "\n",
    "while True:\n",
    "    visit = [[False]*n for _ in range(n)]\n",
    "    flag = False\n",
    "    \n",
    "    for i in range(n):\n",
    "        for j in range(n):\n",
    "            if not visit[i][j]:\n",
    "                if bfs(i, j) > 1:\n",
    "                    flag = True\n",
    "                    \n",
    "    if not flag:\n",
    "        break\n",
    "        \n",
    "    day += 1\n",
    "    \n",
    "\n",
    "print(day)"
   ]
  },
  {
   "cell_type": "code",
   "execution_count": null,
   "id": "b64339fa-b0b8-4f5c-b3e1-67e852efa2ea",
   "metadata": {},
   "outputs": [],
   "source": []
  },
  {
   "cell_type": "code",
   "execution_count": null,
   "id": "8b261ef3-b089-4bfb-b8f6-cd185643b492",
   "metadata": {},
   "outputs": [],
   "source": []
  }
 ],
 "metadata": {
  "kernelspec": {
   "display_name": "Python 3 (ipykernel)",
   "language": "python",
   "name": "python3"
  },
  "language_info": {
   "codemirror_mode": {
    "name": "ipython",
    "version": 3
   },
   "file_extension": ".py",
   "mimetype": "text/x-python",
   "name": "python",
   "nbconvert_exporter": "python",
   "pygments_lexer": "ipython3",
   "version": "3.8.6"
  }
 },
 "nbformat": 4,
 "nbformat_minor": 5
}
